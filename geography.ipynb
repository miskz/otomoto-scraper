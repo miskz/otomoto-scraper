{
 "cells": [
  {
   "cell_type": "code",
   "execution_count": null,
   "metadata": {},
   "outputs": [],
   "source": [
    "import pandas as pd\n",
    "import geopandas\n",
    "import matplotlib.pyplot as plt\n",
    "\n",
    "import warnings\n",
    "warnings.simplefilter(action='ignore', category=FutureWarning)\n",
    "warnings.simplefilter(action='ignore', category=UserWarning)"
   ]
  },
  {
   "cell_type": "code",
   "execution_count": null,
   "metadata": {},
   "outputs": [],
   "source": [
    "offers = pd.read_feather('offers.arrow')"
   ]
  },
  {
   "cell_type": "code",
   "execution_count": null,
   "metadata": {},
   "outputs": [],
   "source": [
    "zipcodes = pd.read_csv('zipcodes.csv')\n",
    "zipcodes.columns = zipcodes.columns.str.strip().str.lower().str.replace(' ', '_').str.replace('(', '').str.replace(')', '')\n",
    "\n",
    "zipcodes = zipcodes.dropna(subset=['pna'])\n",
    "zipcodes = zipcodes.astype({'adress_2': 'string'})\n",
    "\n",
    "zipcodes['adress_2'] = zipcodes['adress_2'].str.strip()\n",
    "streetno_rows = zipcodes['adress_2'].str.contains('\\d*(/|-)(\\d*|dk)')\n",
    "zipcodes = zipcodes[~streetno_rows]\n",
    "streetno_rows = zipcodes['adress_2'].str.contains('^\\d*(,|)$')\n",
    "zipcodes = zipcodes[~streetno_rows]\n",
    "\n",
    "zipcodes['city'] = zipcodes['city'].str[1:]\n",
    "zipcodes['adress'] = zipcodes.apply(\n",
    "    lambda row:\n",
    "        row.adress.replace(row.city.lower(), '').strip(),\n",
    "        axis=1\n",
    "    )\n",
    "\n",
    "\n",
    "zipcodes['county'] = zipcodes['adress'].str.split().str[-1]\n",
    "\n",
    "zipcodes['muni'] = zipcodes['adress'].str.split(' ').str[:-1].str.join('_')\n",
    "zipcodes['muni'] = zipcodes.apply(\n",
    "    lambda row:\n",
    "        row.muni.replace(row.adress_2.replace(' ', '_')+'_', '') if len(row.muni) > 0 else \n",
    "            row.city.strip().lower().replace(' ', '_').replace('(', '').replace(')', ''),\n",
    "        axis=1\n",
    "    )\n",
    "\n",
    "zipcodes['fullpath'] = zipcodes.apply(\n",
    "    lambda row:\n",
    "        row.woj + '-' + row.county + '-' + row.muni,\n",
    "        axis=1\n",
    "    )\n",
    "\n",
    "municipalities = pd.read_csv('municipalities.csv')\n",
    "municipalities['county'] = municipalities['county'].str.lower()\n",
    "municipalities['muni'] = municipalities['municipality'].str.lower().str.replace(' ', '_')\n",
    "municipalities = municipalities.replace(regex=['\\[a\\]'], value='')\n",
    "municipalities['fullpath'] = municipalities.apply(\n",
    "    lambda row:\n",
    "        row.voivodeship + '-' + row.county + '-' + row.muni,\n",
    "        axis=1\n",
    "    )\n",
    "\n",
    "new_df = pd.merge(zipcodes, municipalities,  how='outer', left_on='fullpath', right_on='fullpath')"
   ]
  },
  {
   "cell_type": "code",
   "execution_count": null,
   "metadata": {},
   "outputs": [],
   "source": [
    "counties = geopandas.read_file('counties/counties.shp')\n",
    "counties = counties.to_crs(epsg=4326)\n",
    "\n",
    "munis = geopandas.read_file('munis/munis.shp')\n",
    "munis = munis.to_crs(epsg=4326)"
   ]
  },
  {
   "cell_type": "code",
   "execution_count": null,
   "metadata": {},
   "outputs": [],
   "source": [
    "gdf = geopandas.GeoDataFrame(\n",
    "    offers, geometry=geopandas.points_from_xy(offers.longitude, offers.latitude))\n",
    "\n",
    "gdf.plot()"
   ]
  },
  {
   "cell_type": "code",
   "execution_count": null,
   "metadata": {},
   "outputs": [],
   "source": [
    "fig, ax = plt.subplots()\n",
    "\n",
    "counties.plot(ax=ax)\n",
    "\n",
    "gdf.plot(ax=ax, color='red', markersize=5);\n",
    "\n",
    "fig.suptitle('CARS!')\n",
    "ax.set_xlabel('longitude')\n",
    "ax.set_ylabel('latitude')"
   ]
  },
  {
   "cell_type": "code",
   "execution_count": null,
   "metadata": {},
   "outputs": [],
   "source": [
    "# DONT OPEN, DEAD INSIDE\n",
    "\n",
    "zipcodes = pd.read_csv('zipcodes.csv')\n",
    "zipcodes.columns = zipcodes.columns.str.strip().str.lower().str.replace(' ', '_').str.replace('(', '').str.replace(')', '')\n",
    "\n",
    "zipcodes = zipcodes.dropna(subset=['pna'])\n",
    "zipcodes = zipcodes.astype({'adress_2': 'string'})\n",
    "\n",
    "zipcodes['adress_2'] = zipcodes['adress_2'].str.strip()\n",
    "streetno_rows = zipcodes['adress_2'].str.contains('\\d*(/|-)(\\d*|dk)')\n",
    "zipcodes = zipcodes[~streetno_rows]\n",
    "streetno_rows = zipcodes['adress_2'].str.contains('^\\d*(,|)$')\n",
    "zipcodes = zipcodes[~streetno_rows]\n",
    "streetno_rows = zipcodes['adress_2'].str.contains('^\\d*, \\d*$')\n",
    "zipcodes = zipcodes[~streetno_rows]\n",
    "\n",
    "\n",
    "zipcodes['county'] = zipcodes['adress'].str.split().str[-1]\n",
    "\n",
    "def polishpost_unscrew(row):\n",
    "    address = row.adress.split(' ')\n",
    "    if len(address) == 1: return address\n",
    "    elif len(address) >= 2 and address[-1] == address [-2]: return address[-1]\n",
    "    elif len(address) >= 4 and (address[-1] == address [-3]) and (address[-2] == address [-4]): return (address[-2] + ' ' + address[-1])\n",
    "    else: return address[-1]\n",
    "\n",
    "zipcodes['county'] = zipcodes.apply(\n",
    "    lambda row:\n",
    "        polishpost_unscrew(row),\n",
    "        axis=1\n",
    "    )\n",
    "\n",
    "zipcodes['muni'] = zipcodes['adress'].str.split(' ').str[:-1].str.join('_')\n",
    "zipcodes = zipcodes.drop_duplicates(subset='pna', keep=\"last\")"
   ]
  },
  {
   "cell_type": "code",
   "execution_count": null,
   "metadata": {},
   "outputs": [],
   "source": [
    "zipcodes = pd.read_excel('pna.xlsx')\n",
    "zipcodes.columns = zipcodes.columns.str.strip().str.lower().str.replace(' ', '_').str.replace('(', '').str.replace(')', '')\n",
    "\n",
    "zipcodes['voivodeship'] = zipcodes['województwo'].str.strip().str.lower().str.replace(' ', '_').str.replace('(', '').str.replace(')', '')\n",
    "zipcodes['county'] = zipcodes['powiat'].str.strip().str.lower().str.replace(' ', '_').str.replace('(', '').str.replace(')', '')\n",
    "zipcodes['muni'] = zipcodes['gmina'].str.strip().str.lower().str.replace(' ', '_').str.replace('(', '').str.replace(')', '')"
   ]
  },
  {
   "cell_type": "code",
   "execution_count": null,
   "metadata": {},
   "outputs": [],
   "source": [
    "pna_db = pd.DataFrame()\n",
    "\n",
    "pna_db[['pna', 'voivodeship', 'county', 'muni']] = zipcodes[['kod', 'województwo', 'powiat', 'gmina']]\n",
    "\n",
    "# Some counties change names, yay?! (this one did in 2020)\n",
    "pna_db['county'] = pna_db['county'].str.replace('jeleniogórski', 'karkonoski', regex=False)"
   ]
  },
  {
   "cell_type": "code",
   "execution_count": null,
   "metadata": {},
   "outputs": [],
   "source": [
    "pna_soup = pd.read_csv('zipcodes.csv')\n",
    "pna_soup.columns = pna_soup.columns.str.strip().str.lower().str.replace(' ', '_').str.replace('(', '').str.replace(')', '')\n",
    "pna_soup['city'] = pna_soup['city'].str[1:]\n",
    "\n",
    "pna_toexpand = zipcodes[zipcodes['komentarz'] == 'całe miasto jako 1 kształt']\n",
    "pna_city = pd.DataFrame()\n",
    "\n",
    "for index, row in pna_toexpand.iterrows():\n",
    "    if pna_city.empty:\n",
    "        pna_city = pna_soup[pna_soup['city'] == row.gmina]\n",
    "    else:\n",
    "        pna_city_temp = pna_soup[pna_soup['city'] == row.gmina]\n",
    "        pna_city = pd.concat([pna_city, pna_city_temp])\n",
    "        \n",
    "pna_cities = pd.DataFrame()\n",
    "pna_cities[['pna', 'voivodeship', 'county']] = pna_city[['pna', 'woj', 'city']]\n",
    "pna_cities['muni'] = pna_cities['county']"
   ]
  },
  {
   "cell_type": "code",
   "execution_count": null,
   "metadata": {},
   "outputs": [],
   "source": [
    "municipalities = pd.read_csv('municipalities.csv')\n",
    "municipalities['county'] = municipalities['county'].str.lower()\n",
    "municipalities['muni'] = municipalities['municipality'].str.lower().str.replace(' ', '_')\n",
    "municipalities = municipalities.replace(regex=['\\[a\\]'], value='')\n",
    "\n",
    "municipalities['muni'] = municipalities['muni'].str.strip().str.lower().str.replace(' ', '_').str.replace('(', '').str.replace(')', '')\n",
    "municipalities['county'] = municipalities['county'].str.strip().str.lower().str.replace(' ', '_').str.replace('(', '').str.replace(')', '')\n",
    "\n",
    "municipalities['fullpath'] = municipalities.apply(\n",
    "    lambda row:\n",
    "        row.voivodeship + '-' + row.county + '-' + row.muni,\n",
    "        axis=1\n",
    "    )"
   ]
  },
  {
   "cell_type": "code",
   "execution_count": null,
   "metadata": {},
   "outputs": [],
   "source": [
    "pna_db = pd.concat([pna_db, pna_cities], axis=0, ignore_index=True)\n",
    "\n",
    "pna_db['muni'] = pna_db['muni'].str.strip().str.lower().str.replace(' ', '_').str.replace('(', '').str.replace(')', '')\n",
    "pna_db['county'] = pna_db['county'].str.strip().str.lower().str.replace(' ', '_').str.replace('(', '').str.replace(')', '')\n",
    "\n",
    "pna_db['fullpath'] = pna_db.apply(\n",
    "    lambda row:\n",
    "        row.voivodeship + '-' + row.county + '-' + row.muni,\n",
    "        axis=1\n",
    "    )"
   ]
  },
  {
   "cell_type": "code",
   "execution_count": null,
   "metadata": {},
   "outputs": [],
   "source": [
    "#pna_teryt = pna_db.merge(municipalities, on='fullpath', how='outer', suffixes=(None, '_'))\n",
    "# there's a couple dozen of PNAs with no matches left, good enough to figure out in Excel with PNA search tool\n",
    "\n",
    "#pna_teryt.to_excel('pna_teryt.xlsx')\n",
    "\n",
    "# With help of Wikipedia and GUS I managed to fill this out\n",
    "# Most issues stem from alternative ways of how county name can be derived via inflection\n",
    "\n",
    "#pna_teryt = pd.read_excel('pna_teryt.xlsx')"
   ]
  },
  {
   "cell_type": "code",
   "execution_count": null,
   "metadata": {},
   "outputs": [],
   "source": [
    "pna_teryt = pd.read_excel('pna_teryt.xlsx')\n",
    "#pna_teryt = pna_teryt.drop(['municipality', 'muni_', 'voivodeship_', 'county_'], axis=1)"
   ]
  },
  {
   "cell_type": "code",
   "execution_count": null,
   "metadata": {},
   "outputs": [],
   "source": [
    "from tabula.io import read_pdf\n",
    "tables = read_pdf('spispna.pdf', pages='all', multiple_tables=True, stream=True)  # substitute your file name"
   ]
  },
  {
   "cell_type": "code",
   "execution_count": null,
   "metadata": {},
   "outputs": [],
   "source": [
    "tables[5]"
   ]
  },
  {
   "cell_type": "code",
   "execution_count": null,
   "metadata": {},
   "outputs": [],
   "source": [
    "zipcodes = pd.read_csv('pnadb.csv')"
   ]
  },
  {
   "cell_type": "code",
   "execution_count": 1,
   "metadata": {},
   "outputs": [],
   "source": [
    "import pandas as pd\n",
    "\n",
    "offers = pd.read_feather('offers.arrow')"
   ]
  }
 ],
 "metadata": {
  "kernelspec": {
   "display_name": "Python 3.10.6 64-bit",
   "language": "python",
   "name": "python3"
  },
  "language_info": {
   "codemirror_mode": {
    "name": "ipython",
    "version": 3
   },
   "file_extension": ".py",
   "mimetype": "text/x-python",
   "name": "python",
   "nbconvert_exporter": "python",
   "pygments_lexer": "ipython3",
   "version": "3.10.8"
  },
  "orig_nbformat": 4,
  "vscode": {
   "interpreter": {
    "hash": "b0fa6594d8f4cbf19f97940f81e996739fb7646882a419484c72d19e05852a7e"
   }
  }
 },
 "nbformat": 4,
 "nbformat_minor": 2
}
